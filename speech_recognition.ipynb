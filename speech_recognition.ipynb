{
 "cells": [
  {
   "cell_type": "code",
   "execution_count": 2,
   "metadata": {},
   "outputs": [],
   "source": [
    "import naoqi\n",
    "from naoqi import ALProxy"
   ]
  },
  {
   "cell_type": "code",
   "execution_count": null,
   "metadata": {},
   "outputs": [],
   "source": [
    "audio_device=ALProxy(\"ALAudioDevice\",\"192.168.1.141\",9559)\n",
    "audio_device.setAudioExpression(\"Normal\")\n",
    "audio_device.setFrontMicSensitivity(50)"
   ]
  },
  {
   "cell_type": "code",
   "execution_count": null,
   "metadata": {},
   "outputs": [],
   "source": [
    "speech_service=ALProxy(\"ALSpeechReognition\",\"192.168.1.141\",9559)\n",
    "speech_service.setLanguage(\"English\")\n",
    "speech_service.setVocabulary([\"hey buddy\",\"hello\"], False)\n",
    "\n",
    "\n",
    "speech_service.subscribe(\"my_speech_recognition\")"
   ]
  },
  {
   "cell_type": "code",
   "execution_count": null,
   "metadata": {},
   "outputs": [],
   "source": [
    "while True:\n",
    "    event=speech_service.waitForEvent()\n",
    "    if event:\n",
    "        print(\"Recognized:\",event[0])\n",
    "    else:\n",
    "        print(\"Did not recognize what you said\")"
   ]
  },
  {
   "cell_type": "code",
   "execution_count": null,
   "metadata": {},
   "outputs": [],
   "source": [
    "speech_service.unsubscribe('my_speech_recognition')"
   ]
  }
 ],
 "metadata": {
  "kernelspec": {
   "display_name": "Python 3",
   "language": "python",
   "name": "python3"
  },
  "language_info": {
   "codemirror_mode": {
    "name": "ipython",
    "version": 2
   },
   "file_extension": ".py",
   "mimetype": "text/x-python",
   "name": "python",
   "nbconvert_exporter": "python",
   "pygments_lexer": "ipython2",
   "version": "2.7.17"
  },
  "orig_nbformat": 4
 },
 "nbformat": 4,
 "nbformat_minor": 2
}
