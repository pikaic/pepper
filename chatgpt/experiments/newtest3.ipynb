{
 "cells": [
  {
   "cell_type": "code",
   "execution_count": 1,
   "metadata": {},
   "outputs": [
    {
     "name": "stderr",
     "output_type": "stream",
     "text": [
      "/home/logan_18/anaconda3/envs/peppercudaenv/lib/python3.10/site-packages/tqdm/auto.py:21: TqdmWarning: IProgress not found. Please update jupyter and ipywidgets. See https://ipywidgets.readthedocs.io/en/stable/user_install.html\n",
      "  from .autonotebook import tqdm as notebook_tqdm\n"
     ]
    }
   ],
   "source": [
    "import functools\n",
    "import whisper\n",
    "import openai\n",
    "import pyaudio\n",
    "import wave\n",
    "import os"
   ]
  },
  {
   "cell_type": "code",
   "execution_count": 2,
   "metadata": {},
   "outputs": [],
   "source": [
    "whisper_model=None\n",
    "# def load_whisper_model():\n",
    "#     load_the_model=whisper.load_model(\"medium.en\")\n",
    "#     whisper_model=1\n",
    "#     return load_the_model\n",
    "\n",
    "\n",
    "def transcribe(audio_file):\n",
    "    global whisper_model\n",
    "    if whisper_model is None:\n",
    "        whisper_model=whisper.load_model(\"medium.en\")\n",
    "    result = whisper_model.transcribe(audio_file)\n",
    "    return result"
   ]
  },
  {
   "cell_type": "code",
   "execution_count": 3,
   "metadata": {},
   "outputs": [],
   "source": [
    "result=transcribe(\"/home/logan_18/pepper/chatgpt/recordings/recording.mp3\")"
   ]
  },
  {
   "cell_type": "code",
   "execution_count": 4,
   "metadata": {},
   "outputs": [
    {
     "name": "stdout",
     "output_type": "stream",
     "text": [
      "Question generated:  Tell me something about Pakistan.\n"
     ]
    }
   ],
   "source": [
    "print(\"Question generated: \"+result[\"text\"])"
   ]
  }
 ],
 "metadata": {
  "kernelspec": {
   "display_name": "peppercudaenv",
   "language": "python",
   "name": "python3"
  },
  "language_info": {
   "codemirror_mode": {
    "name": "ipython",
    "version": 3
   },
   "file_extension": ".py",
   "mimetype": "text/x-python",
   "name": "python",
   "nbconvert_exporter": "python",
   "pygments_lexer": "ipython3",
   "version": "3.10.9"
  },
  "orig_nbformat": 4
 },
 "nbformat": 4,
 "nbformat_minor": 2
}
