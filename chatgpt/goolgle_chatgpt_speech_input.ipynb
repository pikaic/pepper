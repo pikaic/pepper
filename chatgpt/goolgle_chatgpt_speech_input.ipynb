{
 "cells": [
  {
   "cell_type": "code",
   "execution_count": 1,
   "metadata": {},
   "outputs": [],
   "source": [
    "from google.cloud import speech\n"
   ]
  },
  {
   "cell_type": "code",
   "execution_count": 2,
   "metadata": {},
   "outputs": [],
   "source": [
    "client=speech.SpeechClient.from_service_account_file('google_speech_api.json')"
   ]
  },
  {
   "cell_type": "code",
   "execution_count": 3,
   "metadata": {},
   "outputs": [],
   "source": [
    "file_name=\"recording.mp3\""
   ]
  },
  {
   "cell_type": "code",
   "execution_count": 4,
   "metadata": {},
   "outputs": [],
   "source": [
    "with open(file_name,'rb') as f:\n",
    "    wav_data=f.read()\n",
    "\n"
   ]
  },
  {
   "cell_type": "code",
   "execution_count": 5,
   "metadata": {},
   "outputs": [],
   "source": [
    "audio_file=speech.RecognitionAudio(content=wav_data)"
   ]
  },
  {
   "cell_type": "code",
   "execution_count": 6,
   "metadata": {},
   "outputs": [],
   "source": [
    "config=speech.RecognitionConfig(\n",
    "    sample_rate_hertz=44100,\n",
    "    enable_automatic_punctuation=True,\n",
    "    language_code='en-US'\n",
    ")"
   ]
  },
  {
   "cell_type": "code",
   "execution_count": 7,
   "metadata": {},
   "outputs": [
    {
     "name": "stdout",
     "output_type": "stream",
     "text": [
      "results {\n",
      "  alternatives {\n",
      "    transcript: \"Is this recording working?\"\n",
      "    confidence: 0.91079396\n",
      "  }\n",
      "  result_end_time {\n",
      "    seconds: 2\n",
      "    nanos: 830000000\n",
      "  }\n",
      "  language_code: \"en-us\"\n",
      "}\n",
      "results {\n",
      "  alternatives {\n",
      "    transcript: \" I just wanted to know.\"\n",
      "    confidence: 0.962357044\n",
      "  }\n",
      "  result_end_time {\n",
      "    seconds: 6\n",
      "    nanos: 570000000\n",
      "  }\n",
      "  language_code: \"en-us\"\n",
      "}\n",
      "total_billed_time {\n",
      "  seconds: 7\n",
      "}\n",
      "request_id: 2668088820524759946\n",
      "\n"
     ]
    }
   ],
   "source": [
    "response=client.recognize(\n",
    "    config=config,\n",
    "    audio=audio_file\n",
    ")\n",
    "\n",
    "print(response)"
   ]
  },
  {
   "cell_type": "code",
   "execution_count": 8,
   "metadata": {},
   "outputs": [
    {
     "name": "stdout",
     "output_type": "stream",
     "text": [
      "Output: Is this recording working?\n",
      "Output:  I just wanted to know.\n"
     ]
    }
   ],
   "source": [
    "for result in response.results:\n",
    "    print(\"Output: {}\".format(result.alternatives[0].transcript))"
   ]
  },
  {
   "cell_type": "code",
   "execution_count": null,
   "metadata": {},
   "outputs": [],
   "source": []
  }
 ],
 "metadata": {
  "kernelspec": {
   "display_name": "pepperenv",
   "language": "python",
   "name": "python3"
  },
  "language_info": {
   "codemirror_mode": {
    "name": "ipython",
    "version": 3
   },
   "file_extension": ".py",
   "mimetype": "text/x-python",
   "name": "python",
   "nbconvert_exporter": "python",
   "pygments_lexer": "ipython3",
   "version": "3.10.9"
  },
  "orig_nbformat": 4
 },
 "nbformat": 4,
 "nbformat_minor": 2
}
