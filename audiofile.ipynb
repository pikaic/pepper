{
 "cells": [
  {
   "cell_type": "code",
   "execution_count": 2,
   "metadata": {},
   "outputs": [],
   "source": [
    "import sounddevice as sd"
   ]
  },
  {
   "cell_type": "code",
   "execution_count": 4,
   "metadata": {},
   "outputs": [],
   "source": [
    "from scipy.io.wavfile import write"
   ]
  },
  {
   "cell_type": "code",
   "execution_count": 8,
   "metadata": {},
   "outputs": [],
   "source": [
    "import wavio as wv"
   ]
  },
  {
   "cell_type": "code",
   "execution_count": 9,
   "metadata": {},
   "outputs": [
    {
     "ename": "PortAudioError",
     "evalue": "Error querying device -1",
     "output_type": "error",
     "traceback": [
      "\u001b[0;31m---------------------------------------------------------------------------\u001b[0m",
      "\u001b[0;31mPortAudioError\u001b[0m                            Traceback (most recent call last)",
      "Cell \u001b[0;32mIn[9], line 3\u001b[0m\n\u001b[1;32m      1\u001b[0m freq\u001b[39m=\u001b[39m\u001b[39m44100\u001b[39m\n\u001b[1;32m      2\u001b[0m duration\u001b[39m=\u001b[39m\u001b[39m10\u001b[39m\n\u001b[0;32m----> 3\u001b[0m recording\u001b[39m=\u001b[39msd\u001b[39m.\u001b[39;49mrec(\u001b[39mint\u001b[39;49m(duration\u001b[39m*\u001b[39;49mfreq),samplerate\u001b[39m=\u001b[39;49mfreq,channels\u001b[39m=\u001b[39;49m\u001b[39m2\u001b[39;49m)\n\u001b[1;32m      5\u001b[0m sd\u001b[39m.\u001b[39mwait()\n\u001b[1;32m      7\u001b[0m write(\u001b[39m\"\u001b[39m\u001b[39mrecording0.wav\u001b[39m\u001b[39m\"\u001b[39m,freq,recording)\n",
      "File \u001b[0;32m~/anaconda3/envs/pepperenv/lib/python3.10/site-packages/sounddevice.py:274\u001b[0m, in \u001b[0;36mrec\u001b[0;34m(frames, samplerate, channels, dtype, out, mapping, blocking, **kwargs)\u001b[0m\n\u001b[1;32m    271\u001b[0m     ctx\u001b[39m.\u001b[39mread_indata(indata)\n\u001b[1;32m    272\u001b[0m     ctx\u001b[39m.\u001b[39mcallback_exit()\n\u001b[0;32m--> 274\u001b[0m ctx\u001b[39m.\u001b[39;49mstart_stream(InputStream, samplerate, ctx\u001b[39m.\u001b[39;49minput_channels,\n\u001b[1;32m    275\u001b[0m                  ctx\u001b[39m.\u001b[39;49minput_dtype, callback, blocking, \u001b[39m*\u001b[39;49m\u001b[39m*\u001b[39;49mkwargs)\n\u001b[1;32m    276\u001b[0m \u001b[39mreturn\u001b[39;00m out\n",
      "File \u001b[0;32m~/anaconda3/envs/pepperenv/lib/python3.10/site-packages/sounddevice.py:2573\u001b[0m, in \u001b[0;36m_CallbackContext.start_stream\u001b[0;34m(self, StreamClass, samplerate, channels, dtype, callback, blocking, **kwargs)\u001b[0m\n\u001b[1;32m   2570\u001b[0m \u001b[39mdef\u001b[39;00m \u001b[39mstart_stream\u001b[39m(\u001b[39mself\u001b[39m, StreamClass, samplerate, channels, dtype, callback,\n\u001b[1;32m   2571\u001b[0m                  blocking, \u001b[39m*\u001b[39m\u001b[39m*\u001b[39mkwargs):\n\u001b[1;32m   2572\u001b[0m     stop()  \u001b[39m# Stop previous playback/recording\u001b[39;00m\n\u001b[0;32m-> 2573\u001b[0m     \u001b[39mself\u001b[39m\u001b[39m.\u001b[39mstream \u001b[39m=\u001b[39m StreamClass(samplerate\u001b[39m=\u001b[39;49msamplerate,\n\u001b[1;32m   2574\u001b[0m                               channels\u001b[39m=\u001b[39;49mchannels,\n\u001b[1;32m   2575\u001b[0m                               dtype\u001b[39m=\u001b[39;49mdtype,\n\u001b[1;32m   2576\u001b[0m                               callback\u001b[39m=\u001b[39;49mcallback,\n\u001b[1;32m   2577\u001b[0m                               finished_callback\u001b[39m=\u001b[39;49m\u001b[39mself\u001b[39;49m\u001b[39m.\u001b[39;49mfinished_callback,\n\u001b[1;32m   2578\u001b[0m                               \u001b[39m*\u001b[39;49m\u001b[39m*\u001b[39;49mkwargs)\n\u001b[1;32m   2579\u001b[0m     \u001b[39mself\u001b[39m\u001b[39m.\u001b[39mstream\u001b[39m.\u001b[39mstart()\n\u001b[1;32m   2580\u001b[0m     \u001b[39mglobal\u001b[39;00m _last_callback\n",
      "File \u001b[0;32m~/anaconda3/envs/pepperenv/lib/python3.10/site-packages/sounddevice.py:1415\u001b[0m, in \u001b[0;36mInputStream.__init__\u001b[0;34m(self, samplerate, blocksize, device, channels, dtype, latency, extra_settings, callback, finished_callback, clip_off, dither_off, never_drop_input, prime_output_buffers_using_stream_callback)\u001b[0m\n\u001b[1;32m   1385\u001b[0m \u001b[39mdef\u001b[39;00m \u001b[39m__init__\u001b[39m(\u001b[39mself\u001b[39m, samplerate\u001b[39m=\u001b[39m\u001b[39mNone\u001b[39;00m, blocksize\u001b[39m=\u001b[39m\u001b[39mNone\u001b[39;00m,\n\u001b[1;32m   1386\u001b[0m              device\u001b[39m=\u001b[39m\u001b[39mNone\u001b[39;00m, channels\u001b[39m=\u001b[39m\u001b[39mNone\u001b[39;00m, dtype\u001b[39m=\u001b[39m\u001b[39mNone\u001b[39;00m, latency\u001b[39m=\u001b[39m\u001b[39mNone\u001b[39;00m,\n\u001b[1;32m   1387\u001b[0m              extra_settings\u001b[39m=\u001b[39m\u001b[39mNone\u001b[39;00m, callback\u001b[39m=\u001b[39m\u001b[39mNone\u001b[39;00m, finished_callback\u001b[39m=\u001b[39m\u001b[39mNone\u001b[39;00m,\n\u001b[1;32m   1388\u001b[0m              clip_off\u001b[39m=\u001b[39m\u001b[39mNone\u001b[39;00m, dither_off\u001b[39m=\u001b[39m\u001b[39mNone\u001b[39;00m, never_drop_input\u001b[39m=\u001b[39m\u001b[39mNone\u001b[39;00m,\n\u001b[1;32m   1389\u001b[0m              prime_output_buffers_using_stream_callback\u001b[39m=\u001b[39m\u001b[39mNone\u001b[39;00m):\n\u001b[1;32m   1390\u001b[0m \u001b[39m    \u001b[39m\u001b[39m\"\"\"PortAudio input stream (using NumPy).\u001b[39;00m\n\u001b[1;32m   1391\u001b[0m \n\u001b[1;32m   1392\u001b[0m \u001b[39m    This has the same methods and attributes as `Stream`, except\u001b[39;00m\n\u001b[0;32m   (...)\u001b[0m\n\u001b[1;32m   1413\u001b[0m \n\u001b[1;32m   1414\u001b[0m \u001b[39m    \"\"\"\u001b[39;00m\n\u001b[0;32m-> 1415\u001b[0m     _StreamBase\u001b[39m.\u001b[39;49m\u001b[39m__init__\u001b[39;49m(\u001b[39mself\u001b[39;49m, kind\u001b[39m=\u001b[39;49m\u001b[39m'\u001b[39;49m\u001b[39minput\u001b[39;49m\u001b[39m'\u001b[39;49m, wrap_callback\u001b[39m=\u001b[39;49m\u001b[39m'\u001b[39;49m\u001b[39marray\u001b[39;49m\u001b[39m'\u001b[39;49m,\n\u001b[1;32m   1416\u001b[0m                          \u001b[39m*\u001b[39;49m\u001b[39m*\u001b[39;49m_remove_self(\u001b[39mlocals\u001b[39;49m()))\n",
      "File \u001b[0;32m~/anaconda3/envs/pepperenv/lib/python3.10/site-packages/sounddevice.py:811\u001b[0m, in \u001b[0;36m_StreamBase.__init__\u001b[0;34m(self, kind, samplerate, blocksize, device, channels, dtype, latency, extra_settings, callback, finished_callback, clip_off, dither_off, never_drop_input, prime_output_buffers_using_stream_callback, userdata, wrap_callback)\u001b[0m\n\u001b[1;32m    808\u001b[0m         samplerate \u001b[39m=\u001b[39m isamplerate\n\u001b[1;32m    809\u001b[0m \u001b[39melse\u001b[39;00m:\n\u001b[1;32m    810\u001b[0m     parameters, \u001b[39mself\u001b[39m\u001b[39m.\u001b[39m_dtype, \u001b[39mself\u001b[39m\u001b[39m.\u001b[39m_samplesize, samplerate \u001b[39m=\u001b[39m \\\n\u001b[0;32m--> 811\u001b[0m         _get_stream_parameters(kind, device, channels, dtype, latency,\n\u001b[1;32m    812\u001b[0m                                extra_settings, samplerate)\n\u001b[1;32m    813\u001b[0m     \u001b[39mself\u001b[39m\u001b[39m.\u001b[39m_device \u001b[39m=\u001b[39m parameters\u001b[39m.\u001b[39mdevice\n\u001b[1;32m    814\u001b[0m     \u001b[39mself\u001b[39m\u001b[39m.\u001b[39m_channels \u001b[39m=\u001b[39m parameters\u001b[39m.\u001b[39mchannelCount\n",
      "File \u001b[0;32m~/anaconda3/envs/pepperenv/lib/python3.10/site-packages/sounddevice.py:2651\u001b[0m, in \u001b[0;36m_get_stream_parameters\u001b[0;34m(kind, device, channels, dtype, latency, extra_settings, samplerate)\u001b[0m\n\u001b[1;32m   2648\u001b[0m     samplerate \u001b[39m=\u001b[39m default\u001b[39m.\u001b[39msamplerate\n\u001b[1;32m   2650\u001b[0m device \u001b[39m=\u001b[39m _get_device_id(device, kind, raise_on_error\u001b[39m=\u001b[39m\u001b[39mTrue\u001b[39;00m)\n\u001b[0;32m-> 2651\u001b[0m info \u001b[39m=\u001b[39m query_devices(device)\n\u001b[1;32m   2652\u001b[0m \u001b[39mif\u001b[39;00m channels \u001b[39mis\u001b[39;00m \u001b[39mNone\u001b[39;00m:\n\u001b[1;32m   2653\u001b[0m     channels \u001b[39m=\u001b[39m info[\u001b[39m'\u001b[39m\u001b[39mmax_\u001b[39m\u001b[39m'\u001b[39m \u001b[39m+\u001b[39m kind \u001b[39m+\u001b[39m \u001b[39m'\u001b[39m\u001b[39m_channels\u001b[39m\u001b[39m'\u001b[39m]\n",
      "File \u001b[0;32m~/anaconda3/envs/pepperenv/lib/python3.10/site-packages/sounddevice.py:564\u001b[0m, in \u001b[0;36mquery_devices\u001b[0;34m(device, kind)\u001b[0m\n\u001b[1;32m    562\u001b[0m info \u001b[39m=\u001b[39m _lib\u001b[39m.\u001b[39mPa_GetDeviceInfo(device)\n\u001b[1;32m    563\u001b[0m \u001b[39mif\u001b[39;00m \u001b[39mnot\u001b[39;00m info:\n\u001b[0;32m--> 564\u001b[0m     \u001b[39mraise\u001b[39;00m PortAudioError(\u001b[39m'\u001b[39m\u001b[39mError querying device \u001b[39m\u001b[39m{}\u001b[39;00m\u001b[39m'\u001b[39m\u001b[39m.\u001b[39mformat(device))\n\u001b[1;32m    565\u001b[0m \u001b[39massert\u001b[39;00m info\u001b[39m.\u001b[39mstructVersion \u001b[39m==\u001b[39m \u001b[39m2\u001b[39m\n\u001b[1;32m    566\u001b[0m name_bytes \u001b[39m=\u001b[39m _ffi\u001b[39m.\u001b[39mstring(info\u001b[39m.\u001b[39mname)\n",
      "\u001b[0;31mPortAudioError\u001b[0m: Error querying device -1"
     ]
    }
   ],
   "source": [
    "# freq=44100\n",
    "# duration=10\n",
    "# recording=sd.rec(int(duration*freq),samplerate=freq,channels=2)\n",
    "\n",
    "# sd.wait()\n",
    "\n",
    "# write(\"recording0.wav\",freq,recording)\n",
    "\n",
    "# wv.write(\"recording1.wav\",recording,freq,sampwidth=2)"
   ]
  }
 ],
 "metadata": {
  "kernelspec": {
   "display_name": "pepperenv",
   "language": "python",
   "name": "python3"
  },
  "language_info": {
   "codemirror_mode": {
    "name": "ipython",
    "version": 3
   },
   "file_extension": ".py",
   "mimetype": "text/x-python",
   "name": "python",
   "nbconvert_exporter": "python",
   "pygments_lexer": "ipython3",
   "version": "3.10.9"
  },
  "orig_nbformat": 4
 },
 "nbformat": 4,
 "nbformat_minor": 2
}
