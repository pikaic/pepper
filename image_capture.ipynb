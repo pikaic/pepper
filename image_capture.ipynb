{
 "cells": [
  {
   "cell_type": "code",
   "execution_count": 40,
   "metadata": {},
   "outputs": [],
   "source": [
    "import naoqi\n",
    "import os\n",
    "import numpy as np\n",
    "import cv2\n",
    "import sys\n",
    "from naoqi import ALProxy\n"
   ]
  },
  {
   "cell_type": "code",
   "execution_count": 47,
   "metadata": {},
   "outputs": [],
   "source": [
    "videoDevice = ALProxy('ALVideoDevice', \"192.168.1.141\", 9559)"
   ]
  },
  {
   "cell_type": "code",
   "execution_count": 48,
   "metadata": {},
   "outputs": [],
   "source": [
    "AL_kTopCamera = 0\n",
    "AL_kQVGA = 1            # 320x240\n",
    "AL_kBGRColorSpace = 13\n",
    "captureDevice = videoDevice.subscribeCamera(\n",
    "    \"test\", AL_kTopCamera, AL_kQVGA, AL_kBGRColorSpace, 10)"
   ]
  },
  {
   "cell_type": "code",
   "execution_count": 49,
   "metadata": {},
   "outputs": [],
   "source": [
    "width = 320\n",
    "height = 240\n",
    "image = np.zeros((height, width, 3), np.uint8)\n"
   ]
  },
  {
   "cell_type": "code",
   "execution_count": 50,
   "metadata": {},
   "outputs": [],
   "source": [
    "while True:\n",
    "\n",
    "    # get image\n",
    "    result = videoDevice.getImageRemote(captureDevice);\n",
    "\n",
    "    if result == None:\n",
    "        print 'cannot capture.'\n",
    "    elif result[6] == None:\n",
    "        print 'no image data string.'\n",
    "    else:\n",
    "\n",
    "        # translate value to mat\n",
    "        values = map(ord, list(result[6]))\n",
    "        i = 0\n",
    "        for y in range(0, height):\n",
    "            for x in range(0, width):\n",
    "                image.itemset((y, x, 0), values[i + 0])\n",
    "                image.itemset((y, x, 1), values[i + 1])\n",
    "                image.itemset((y, x, 2), values[i + 2])\n",
    "                i += 3\n",
    "\n",
    "        # show image\n",
    "        cv2.imshow(\"pepper-top-camera-320x240\", image)\n",
    "\n",
    "    # exit by [ESC]\n",
    "    if cv2.waitKey(33) == 27:\n",
    "        break\n",
    "\n",
    "    "
   ]
  },
  {
   "cell_type": "code",
   "execution_count": 51,
   "metadata": {},
   "outputs": [],
   "source": [
    "cv2.destroyAllWindows()"
   ]
  }
 ],
 "metadata": {
  "kernelspec": {
   "display_name": "Python 3",
   "language": "python",
   "name": "python3"
  },
  "language_info": {
   "codemirror_mode": {
    "name": "ipython",
    "version": 2
   },
   "file_extension": ".py",
   "mimetype": "text/x-python",
   "name": "python",
   "nbconvert_exporter": "python",
   "pygments_lexer": "ipython2",
   "version": "3.6.9"
  },
  "orig_nbformat": 4,
  "vscode": {
   "interpreter": {
    "hash": "31f2aee4e71d21fbe5cf8b01ff0e069b9275f58929596ceb00d14d90e3e16cd6"
   }
  }
 },
 "nbformat": 4,
 "nbformat_minor": 2
}
